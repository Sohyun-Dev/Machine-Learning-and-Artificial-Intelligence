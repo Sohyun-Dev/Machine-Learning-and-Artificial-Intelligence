{
  "nbformat": 4,
  "nbformat_minor": 0,
  "metadata": {
    "anaconda-cloud": {},
    "kernelspec": {
      "display_name": "Python 3",
      "language": "python",
      "name": "python3"
    },
    "language_info": {
      "codemirror_mode": {
        "name": "ipython",
        "version": 3
      },
      "file_extension": ".py",
      "mimetype": "text/x-python",
      "name": "python",
      "nbconvert_exporter": "python",
      "pygments_lexer": "ipython3",
      "version": "3.5.2"
    },
    "colab": {
      "name": "AS0_Python_basics.ipynb",
      "provenance": [],
      "collapsed_sections": []
    }
  },
  "cells": [
    {
      "cell_type": "markdown",
      "metadata": {
        "id": "GjIaRT-5ULos"
      },
      "source": [
        "Assignment 0: Python Basics"
      ]
    },
    {
      "cell_type": "markdown",
      "metadata": {
        "id": "kbWpPPQKULow"
      },
      "source": [
        "## Problem 1: Selection Sort\n",
        "\n",
        "아래 selection sort 함수를 구현해보세요. \n",
        "YOUR CODE COMES HERE 라는 주석이 있는 곳을 채우면 됩니다."
      ]
    },
    {
      "cell_type": "code",
      "metadata": {
        "id": "EyYXu1hzULoy"
      },
      "source": [
        "def selection_sort(arr):\n",
        "    # YOUR CODE COMES HERE\n",
        "    for i in range(len(arr)-1):\n",
        "      for j in range(i+1, len(arr)):\n",
        "        if arr[i] > arr[j]:\n",
        "          arr[i], arr[j] = arr[j], arr[i]\n",
        "    return arr\n",
        "      \n"
      ],
      "execution_count": 13,
      "outputs": []
    },
    {
      "cell_type": "code",
      "metadata": {
        "scrolled": false,
        "id": "cT_dRw1vULo4",
        "colab": {
          "base_uri": "https://localhost:8080/"
        },
        "outputId": "f9024a19-83ae-4a4b-89dc-482cef6b508d"
      },
      "source": [
        "import random\n",
        "array = [random.randint(0, 20) for _ in range(20)]\n",
        "print('array: ', array)\n",
        "\n",
        "array_sorted = selection_sort(array)\n",
        "print('sorted:', array_sorted)\n",
        "\n",
        "print()\n",
        "print('Q: Is the array sorted?')\n",
        "print('A:', sorted(array) == array_sorted)"
      ],
      "execution_count": 14,
      "outputs": [
        {
          "output_type": "stream",
          "text": [
            "array:  [20, 8, 20, 9, 2, 16, 10, 8, 15, 14, 18, 3, 5, 6, 17, 17, 6, 2, 8, 2]\n",
            "sorted: [2, 2, 2, 3, 5, 6, 6, 8, 8, 8, 9, 10, 14, 15, 16, 17, 17, 18, 20, 20]\n",
            "\n",
            "Q: Is the array sorted?\n",
            "A: True\n"
          ],
          "name": "stdout"
        }
      ]
    },
    {
      "cell_type": "markdown",
      "metadata": {
        "id": "v4K9EF1rULo-"
      },
      "source": [
        "## Problem 2: Classes\n",
        "\n",
        "Selection sort, insertion sort, merge sort를 아래 class의 instance method로 구현해 보세요. <br>\n",
        "YOUR CODE COMES HERE 라는 주석이 있는 곳을 채우면 됩니다."
      ]
    },
    {
      "cell_type": "code",
      "metadata": {
        "id": "XAtRozsxULo_"
      },
      "source": [
        "class Sorter:\n",
        "    def __init__(self, method):\n",
        "        self.method = method\n",
        "        \n",
        "    @staticmethod\n",
        "    def of(method):\n",
        "        return Sorter(method)\n",
        "        \n",
        "    def sort(self, arr):\n",
        "        if self.method == 'selection_sort':\n",
        "            return self.selection_sort(arr)\n",
        "        \n",
        "        elif self.method == 'insertion_sort':\n",
        "            return self.insertion_sort(arr)\n",
        "        \n",
        "        elif self.method == 'merge_sort':\n",
        "            return self.merge_sort(arr)\n",
        "        \n",
        "        else:\n",
        "            raise ValueError('Unknown method: %s' % method)\n",
        "\n",
        "    def selection_sort(self, arr):\n",
        "        # YOUR CODE COMES HERE\n",
        "        for i in range(len(arr)-1):\n",
        "          for j in range(i+1, len(arr)):\n",
        "            if arr[i]> arr[j]:\n",
        "              arr[i], arr[j] = arr[j], arr[i]\n",
        "        return arr\n",
        "    \n",
        "    def insertion_sort(self, arr):\n",
        "        # YOUR CODE COMES HERE\n",
        "        for i in range(len(arr) - 1):\n",
        "          min = i\n",
        "          for j in range(i+1, len(arr)):\n",
        "            if arr[min] > arr[j]:\n",
        "              min = j\n",
        "            if min != i:\n",
        "              arr[i], arr[min] = arr[min], arr[i]\n",
        "          return arr\n",
        "\n",
        "    def merge(left, right):\n",
        "      left_index, right_index = 0, 0\n",
        "      result = []\n",
        "      while left_index < len(left) and right_index < len(right):\n",
        "        if left[left_index] < right[right_index]:\n",
        "          result.append(left[left_index])\n",
        "          left_index += 1\n",
        "        else:\n",
        "          result.append(right[right_index])\n",
        "          right_index += 1\n",
        "      result += left[left+index:]\n",
        "      result += right[right_index:]\n",
        "      return result\n",
        "\n",
        "\n",
        "    def merge_sort(self, arr):\n",
        "        # YOUR CODE COMES HERE\n",
        "        if len(arr) <= 1:\n",
        "          return arr\n",
        "        mid = len(arr) // 2\n",
        "        left = self.merge_sort(arr[:mid])\n",
        "        right = self.merge_sort(arr[mid:])\n",
        "\n",
        "        def merge(left, right):\n",
        "          result = []\n",
        "          while len(left) > 0 or len(right) > 0:\n",
        "            if len(left) > 0 and len(right) > 0:\n",
        "              if left[0] <= right[0]:\n",
        "                result.append(left[0])\n",
        "                left = left[1:]\n",
        "              else:\n",
        "                result.append(right[0])\n",
        "                right = right[1:]\n",
        "            elif len(left) > 0 :\n",
        "              result.append(left[0])\n",
        "              left = left[1:]\n",
        "            elif len(right) > 0:\n",
        "              result.append(right[0])\n",
        "              right = right[1:]\n",
        "          return result\n",
        "\n",
        "        return merge(left, right)\n",
        "\n",
        "\n",
        "    \n"
      ],
      "execution_count": 51,
      "outputs": []
    },
    {
      "cell_type": "code",
      "metadata": {
        "id": "E1tKG55IULpE",
        "colab": {
          "base_uri": "https://localhost:8080/"
        },
        "outputId": "c5ee1a56-0802-4f96-f712-89dbba84bda4"
      },
      "source": [
        "array = [random.randint(0, 20) for _ in range(20)]\n",
        "\n",
        "algorithms = ['selection_sort', 'insertion_sort', 'merge_sort']\n",
        "for algorithm in algorithms:\n",
        "    sorter = Sorter.of(algorithm)\n",
        "    array_sorted = sorter.sort(array)\n",
        "    print('%s sorted? %s' % (algorithm, sorted(array) == array_sorted))"
      ],
      "execution_count": 52,
      "outputs": [
        {
          "output_type": "stream",
          "text": [
            "selection_sort sorted? True\n",
            "insertion_sort sorted? True\n",
            "merge_sort sorted? True\n"
          ],
          "name": "stdout"
        }
      ]
    },
    {
      "cell_type": "code",
      "metadata": {
        "id": "wj0K50Q5ULpI"
      },
      "source": [
        ""
      ],
      "execution_count": null,
      "outputs": []
    }
  ]
}